{
  "nbformat": 4,
  "nbformat_minor": 0,
  "metadata": {
    "colab": {
      "provenance": [],
      "authorship_tag": "ABX9TyMgux6b1V0UDzHIOi1T6X8k",
      "include_colab_link": true
    },
    "kernelspec": {
      "name": "python3",
      "display_name": "Python 3"
    },
    "language_info": {
      "name": "python"
    }
  },
  "cells": [
    {
      "cell_type": "markdown",
      "metadata": {
        "id": "view-in-github",
        "colab_type": "text"
      },
      "source": [
        "<a href=\"https://colab.research.google.com/github/JayK327/Python_dsa/blob/main/Heap.ipynb\" target=\"_parent\"><img src=\"https://colab.research.google.com/assets/colab-badge.svg\" alt=\"Open In Colab\"/></a>"
      ]
    },
    {
      "cell_type": "code",
      "execution_count": 34,
      "metadata": {
        "colab": {
          "base_uri": "https://localhost:8080/"
        },
        "id": "Vdh0fCCJPFDg",
        "outputId": "ce428cba-6d9a-4243-aab6-aeb6a47d83b0"
      },
      "outputs": [
        {
          "output_type": "stream",
          "name": "stdout",
          "text": [
            "[56, 33, 46, 23, 7, 4, 25, 3, 6]\n",
            "After insertion heap looks like: [56, 33, 46, 23, 30, 4, 25, 3, 6, 7]\n",
            "Top value in the heap: 56\n"
          ]
        }
      ],
      "source": [
        "class Heap:\n",
        "    def __init__(self):\n",
        "        self.heap=[]\n",
        "\n",
        "    def createHeap(self,list1):\n",
        "        for ele in list1:\n",
        "            self.insert(ele)\n",
        "\n",
        "    def insert(self,e):\n",
        "        idx=len(self.heap)\n",
        "        parentIdx=(idx-1)//2\n",
        "        while idx >0 and self.heap[parentIdx]<e:\n",
        "            if idx==len(self.heap):\n",
        "                self.heap.append(self.heap[parentIdx])\n",
        "            else:\n",
        "                self.heap[idx]=self.heap[parentIdx]\n",
        "            idx=parentIdx\n",
        "            parentIdx=(idx-1)//2\n",
        "        if idx==len(self.heap):\n",
        "            self.heap.append(e)\n",
        "        else:\n",
        "            self.heap[idx]=e\n",
        "\n",
        "    def top(self):\n",
        "        if len(self.heap)==0:\n",
        "            raise EmptyHeapException()\n",
        "        return self.heap[0]\n",
        "\n",
        "    def delete(self):\n",
        "        if len(self.heap)==0:\n",
        "            raise EmptyHeapException()\n",
        "        if len(self.heap)==1:\n",
        "            return self.heap.pop()\n",
        "        max_value=self.heap[0]         #remove first element\n",
        "        tmp=self.heap.pop()            #delete last element but value store in temp\n",
        "        idx=0\n",
        "\n",
        "        idxLC=2*idx+1  #Left child index\n",
        "        idxRC=2*idx+2   #Right child index\n",
        "        while idxLC<len(self.heap):                    #left child exist\n",
        "            if idxRC<len(self.heap):                         #right child exist\n",
        "                if self.heap[idxLC]>self.heap[idxRC]:              #value of left child>right child\n",
        "                    if self.heap[idxLC]>tmp:                              #value of left child>tmp\n",
        "                        self.heap[idx]=self.heap[idxLC]\n",
        "                        idx=idxLC\n",
        "                    else:                                                 #value of left child<tmp\n",
        "                        break\n",
        "                else:                                              #value of right child>left child\n",
        "                    if self.heap[idxRC]>tmp:                              #value of right child>tmp\n",
        "                       self.heap[idx]=self.heap[idxRC]\n",
        "                       idx=idxRC\n",
        "                    else:\n",
        "                       break\n",
        "            else:                                            #No right child\n",
        "                 if self.heap[idxLC]>tmp:                          #value of left child>tmp\n",
        "                     self.heap[idx]=self.heap[idxLC]\n",
        "                     idx=idxLC\n",
        "                 else:                                             #value of left child<tmp\n",
        "                     break\n",
        "            idxLC=2*idx+1\n",
        "            idxRC=2*idx+2\n",
        "        self.heap[idx]=tmp\n",
        "        return max_value\n",
        "\n",
        "    def heapSort(self,list1):\n",
        "        self.createHeap(list1)\n",
        "        list2=[]\n",
        "        try:\n",
        "            while True:\n",
        "                list2.insert(0,self.delete())\n",
        "        except EmptyHeapException:\n",
        "            pass\n",
        "        return list2\n",
        "\n",
        "class EmptyHeapException(Exception):\n",
        "    def __init__(self,msg=\"Empty Heap\"):\n",
        "        self.msg=msg\n",
        "    def __str__(self):\n",
        "        return self.msg\n",
        "\n",
        "list1=[3,25,46,7,23,4,56,33,6]\n",
        "h=Heap()\n",
        "\n",
        "for element in list1:\n",
        "    h.insert(element)\n",
        "print(h.heap)\n",
        "\n",
        "h.insert(30)\n",
        "print(\"After insertion heap looks like:\",h.heap)\n",
        "\n",
        "\n",
        "max_value = h.top()\n",
        "print(\"Top value in the heap:\", max_value)\n",
        "\n"
      ]
    },
    {
      "cell_type": "code",
      "source": [],
      "metadata": {
        "id": "iJXya0Ay_m7x"
      },
      "execution_count": null,
      "outputs": []
    }
  ]
}