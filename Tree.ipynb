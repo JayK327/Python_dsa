{
  "nbformat": 4,
  "nbformat_minor": 0,
  "metadata": {
    "colab": {
      "provenance": [],
      "authorship_tag": "ABX9TyNc05GBeQl+96J5PtThJoLL",
      "include_colab_link": true
    },
    "kernelspec": {
      "name": "python3",
      "display_name": "Python 3"
    },
    "language_info": {
      "name": "python"
    }
  },
  "cells": [
    {
      "cell_type": "markdown",
      "metadata": {
        "id": "view-in-github",
        "colab_type": "text"
      },
      "source": [
        "<a href=\"https://colab.research.google.com/github/JayK327/Python_dsa/blob/main/Tree.ipynb\" target=\"_parent\"><img src=\"https://colab.research.google.com/assets/colab-badge.svg\" alt=\"Open In Colab\"/></a>"
      ]
    },
    {
      "cell_type": "markdown",
      "source": [
        "#***Tree***\n",
        "\n"
      ],
      "metadata": {
        "id": "Yu8dHDLUWixO"
      }
    },
    {
      "cell_type": "code",
      "execution_count": 3,
      "metadata": {
        "colab": {
          "base_uri": "https://localhost:8080/"
        },
        "id": "J9mAF2XEshBW",
        "outputId": "8bbb85f5-8549-4b1c-b756-4954b44a5e4f"
      },
      "outputs": [
        {
          "output_type": "stream",
          "name": "stdout",
          "text": [
            "Electronics\n",
            "  |__Laptop\n",
            "    |__Mac\n",
            "    |__Surface\n",
            "    |__Thinkpad\n",
            "  |__Cell Phone\n",
            "    |__iPhone\n",
            "    |__Google Pixel\n",
            "    |__Vivo\n",
            "  |__TV\n",
            "    |__Samsung\n",
            "    |__LG\n"
          ]
        }
      ],
      "source": [
        "class TreeNode:\n",
        "  def __init__(self,data):\n",
        "    self.parent=None\n",
        "    self.children=[]\n",
        "    self.data=data\n",
        "\n",
        "  def add_child(self,child):\n",
        "    child.parent=self\n",
        "    self.children.append(child)\n",
        "\n",
        "  def get_level(self):\n",
        "    level=0\n",
        "    p=self.parent\n",
        "    while p:\n",
        "      level+=1\n",
        "      p=p.parent\n",
        "\n",
        "    return level\n",
        "\n",
        "  def print_tree(self):\n",
        "    spaces = ' ' * self.get_level() * 2\n",
        "    prefix = spaces + \"|__\" if self.parent else \"\"\n",
        "    print(prefix + self.data)\n",
        "    if self.children:\n",
        "      for child in self.children:\n",
        "                child.print_tree()\n",
        "\n",
        "def build_product_tree():\n",
        "    root = TreeNode(\"Electronics\")\n",
        "\n",
        "    laptop = TreeNode(\"Laptop\")\n",
        "    laptop.add_child(TreeNode(\"Mac\"))\n",
        "    laptop.add_child(TreeNode(\"Surface\"))\n",
        "    laptop.add_child(TreeNode(\"Thinkpad\"))\n",
        "\n",
        "    cellphone = TreeNode(\"Cell Phone\")\n",
        "    cellphone.add_child(TreeNode(\"iPhone\"))\n",
        "    cellphone.add_child(TreeNode(\"Google Pixel\"))\n",
        "    cellphone.add_child(TreeNode(\"Vivo\"))\n",
        "\n",
        "    tv = TreeNode(\"TV\")\n",
        "    tv.add_child(TreeNode(\"Samsung\"))\n",
        "    tv.add_child(TreeNode(\"LG\"))\n",
        "\n",
        "    root.add_child(laptop)\n",
        "    root.add_child(cellphone)\n",
        "    root.add_child(tv)\n",
        "\n",
        "    root.print_tree()\n",
        "\n",
        "if __name__ == '__main__':\n",
        "    build_product_tree()"
      ]
    },
    {
      "cell_type": "markdown",
      "source": [
        "#***Binary Search Tree***"
      ],
      "metadata": {
        "id": "zRAeqXvHWmMZ"
      }
    },
    {
      "cell_type": "code",
      "source": [
        "class BinarySearchTreeNode:\n",
        "  def __init__(self,data):\n",
        "    self.data=data\n",
        "    self.left=None\n",
        "    self.right=None\n",
        "\n",
        "  def add_child(self,data):\n",
        "    if self.data==data:\n",
        "      return\n",
        "\n",
        "    if self.data>data:\n",
        "      #add in left\n",
        "      if self.left:\n",
        "        self.left.add_child(data)\n",
        "      else:\n",
        "        self.left=BinarySearchTreeNode(data)\n",
        "    else:\n",
        "      #add in right\n",
        "        if self.right:\n",
        "          self.right.add_child(data)\n",
        "        else:\n",
        "          self.right = BinarySearchTreeNode(data)\n",
        "\n",
        "  def search(self,val):\n",
        "    if self.data ==val:\n",
        "      return TCPAddressrue\n",
        "\n",
        "    if self.data<val:\n",
        "      #search in right tree\n",
        "      if self.left:\n",
        "        return self.left.search(val)\n",
        "      else:\n",
        "        return False\n",
        "\n",
        "    if self.data>val:\n",
        "      #search in left tree\n",
        "      if self.right:\n",
        "        return self.right.search(val)\n",
        "      else:\n",
        "        return False\n",
        "\n",
        "  def in_order_traversal(self):\n",
        "    elements=[]\n",
        "    if self.left:\n",
        "      elements+= self.left.in_order_traversal()\n",
        "\n",
        "    elements.append(self.data)\n",
        "\n",
        "    if self.right:\n",
        "      elements+= self.right.in_order_traversal()\n",
        "\n",
        "    return  elements\n",
        "\n",
        "\n",
        "def build_tree(elements):\n",
        "    print(\"Building tree with these elements:\",elements)\n",
        "    root = BinarySearchTreeNode(elements[0])\n",
        "\n",
        "    for i in range(1,len(elements)):\n",
        "        root.add_child(elements[i])\n",
        "\n",
        "    return root\n",
        "\n",
        "if __name__ == '__main__':\n",
        "    countries = [\"India\",\"Pakistan\",\"Germany\", \"USA\",\"China\",\"India\",\"UK\",\"USA\"]\n",
        "    country_tree = build_tree(countries)\n",
        "\n",
        "    print(\"UK is in the list? \", country_tree.search(\"UK\"))\n",
        "    print(\"Sweden is in the list? \", country_tree.search(\"Sweden\"))\n",
        "\n",
        "    numbers_tree = build_tree([17, 4, 1, 20, 9, 23, 18, 34])\n",
        "    print(\"In order traversal gives this sorted list:\",numbers_tree.in_order_traversal())"
      ],
      "metadata": {
        "colab": {
          "base_uri": "https://localhost:8080/"
        },
        "id": "cpzf0PJQWqJO",
        "outputId": "704509ba-4b97-4192-d1b5-5b18072f6d96"
      },
      "execution_count": 11,
      "outputs": [
        {
          "output_type": "stream",
          "name": "stdout",
          "text": [
            "Building tree with these elements: ['India', 'Pakistan', 'Germany', 'USA', 'China', 'India', 'UK', 'USA']\n",
            "UK is in the list?  False\n",
            "Sweden is in the list?  False\n",
            "Building tree with these elements: [17, 4, 1, 20, 9, 23, 18, 34]\n",
            "126\n",
            "In order traversal gives this sorted list: [1, 4, 9, 17, 18, 20, 23, 34]\n"
          ]
        }
      ]
    },
    {
      "cell_type": "code",
      "source": [
        "#Find min element in a tree\n",
        "def find_min(self):\n",
        "  min=self.data\n",
        "  if self.left:\n",
        "    min=self.left.find_min()\n",
        "  return min\n",
        "\n",
        "#find max element in a tree\n",
        "def find_max(self):\n",
        "  max=self.data\n",
        "  if self.right:\n",
        "    max=self.right.find_max()\n",
        "  return max\n",
        "\n",
        "#Calcualtes sum of all elements\n",
        "def cal_sum(self):\n",
        "  sum=0\n",
        "  if self.left:\n",
        "    sum+=self.left.cal_sum()\n",
        "  sum+=self.data\n",
        "  if self.right:\n",
        "    sum+=self.right.cal_sum()\n",
        "  return sum\n",
        "\n",
        "#pre order traversal: same as in but -->data,left,right\n",
        "#post order traversal:same as in but -->left,right,data\n",
        "\n"
      ],
      "metadata": {
        "id": "n93Zblpvc-yc"
      },
      "execution_count": null,
      "outputs": []
    },
    {
      "cell_type": "code",
      "source": [
        "# deleting an element\n",
        "def delete(self,val):\n",
        "  if self.data>val:\n",
        "    if self.left:\n",
        "      self.left=self.left.delete()\n",
        "  elif self.data<val:\n",
        "    if self.right:\n",
        "      self.right=self.right.delete()\n",
        "  else:\n",
        "    if self.left is None and self.right is None:\n",
        "      return None\n",
        "    if self.left is None:\n",
        "      return self.right\n",
        "    if self.right is None:\n",
        "      return self.left\n",
        "\n",
        "    min=self.right.find_min()    #removing min from right subtree\n",
        "    self.data=min\n",
        "    self.right=self.right.delete(min)\n",
        "\n",
        "    #OR     Removing max from left subtree\n",
        "  # max_val = self.left.find_max()\n",
        "  # self.data = max_val\n",
        "  # self.left = self.left.delete(max_val)\n",
        "\n",
        "\n",
        "\n",
        "  return self"
      ],
      "metadata": {
        "id": "-1QxW5GJDBDD"
      },
      "execution_count": null,
      "outputs": []
    }
  ]
}