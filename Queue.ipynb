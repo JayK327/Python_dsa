{
  "cells": [
    {
      "cell_type": "markdown",
      "metadata": {
        "id": "view-in-github",
        "colab_type": "text"
      },
      "source": [
        "<a href=\"https://colab.research.google.com/github/JayK327/Python_dsa/blob/main/Queue.ipynb\" target=\"_parent\"><img src=\"https://colab.research.google.com/assets/colab-badge.svg\" alt=\"Open In Colab\"/></a>"
      ]
    },
    {
      "cell_type": "markdown",
      "metadata": {
        "id": "tzeXMmWkrNaf"
      },
      "source": [
        "<h2 style='color:purple' align='center'>Data Structures Tutorial: Queue</h2>"
      ]
    },
    {
      "cell_type": "markdown",
      "metadata": {
        "id": "i1nQ9pSfrNai"
      },
      "source": [
        "<h3 style='color:blue'>Using list as a queue</h3>"
      ]
    },
    {
      "cell_type": "code",
      "execution_count": null,
      "metadata": {
        "id": "2rzkZp5FrNam"
      },
      "outputs": [],
      "source": [
        "wmt_stock_price_queue = []"
      ]
    },
    {
      "cell_type": "code",
      "execution_count": null,
      "metadata": {
        "id": "c_yCFo_7rNan"
      },
      "outputs": [],
      "source": [
        "wmt_stock_price_queue.insert(0,131.10)\n",
        "wmt_stock_price_queue.insert(0,132.12)\n",
        "wmt_stock_price_queue.insert(0,135)"
      ]
    },
    {
      "cell_type": "code",
      "execution_count": null,
      "metadata": {
        "id": "14hIao83rNan",
        "outputId": "671f32b3-d497-4898-acb3-b91fe0cbf590"
      },
      "outputs": [
        {
          "data": {
            "text/plain": [
              "[135, 132.12, 131.1]"
            ]
          },
          "execution_count": 6,
          "metadata": {},
          "output_type": "execute_result"
        }
      ],
      "source": [
        "wmt_stock_price_queue"
      ]
    },
    {
      "cell_type": "code",
      "execution_count": null,
      "metadata": {
        "id": "44DKeYz0rNao",
        "outputId": "18ff4b5e-da78-42ee-82d6-90c493887b2e"
      },
      "outputs": [
        {
          "data": {
            "text/plain": [
              "131.1"
            ]
          },
          "execution_count": 7,
          "metadata": {},
          "output_type": "execute_result"
        }
      ],
      "source": [
        "wmt_stock_price_queue.pop()"
      ]
    },
    {
      "cell_type": "code",
      "execution_count": null,
      "metadata": {
        "id": "Pz37PThRrNao",
        "outputId": "d2386c23-986a-484c-ac2b-aba36fd300b4"
      },
      "outputs": [
        {
          "data": {
            "text/plain": [
              "[135, 132.12]"
            ]
          },
          "execution_count": 8,
          "metadata": {},
          "output_type": "execute_result"
        }
      ],
      "source": [
        "wmt_stock_price_queue"
      ]
    },
    {
      "cell_type": "code",
      "execution_count": null,
      "metadata": {
        "id": "1-EO0zvRrNap",
        "outputId": "fe34c990-e114-4ff7-acf3-03b280b1b5a8"
      },
      "outputs": [
        {
          "data": {
            "text/plain": [
              "132.12"
            ]
          },
          "execution_count": 9,
          "metadata": {},
          "output_type": "execute_result"
        }
      ],
      "source": [
        "wmt_stock_price_queue.pop()"
      ]
    },
    {
      "cell_type": "code",
      "execution_count": null,
      "metadata": {
        "id": "sdF_J31mrNap",
        "outputId": "288fdeb9-c7cf-42a3-98af-89269c8b4aa3"
      },
      "outputs": [
        {
          "data": {
            "text/plain": [
              "135"
            ]
          },
          "execution_count": 10,
          "metadata": {},
          "output_type": "execute_result"
        }
      ],
      "source": [
        "wmt_stock_price_queue.pop()"
      ]
    },
    {
      "cell_type": "code",
      "execution_count": null,
      "metadata": {
        "id": "xNyi7yzvrNap",
        "outputId": "ced9ab0d-25d3-4640-cac2-b4c4d297154f"
      },
      "outputs": [
        {
          "ename": "IndexError",
          "evalue": "pop from empty list",
          "output_type": "error",
          "traceback": [
            "\u001b[1;31m---------------------------------------------------------------------------\u001b[0m",
            "\u001b[1;31mIndexError\u001b[0m                                Traceback (most recent call last)",
            "\u001b[1;32m<ipython-input-11-09580442e205>\u001b[0m in \u001b[0;36m<module>\u001b[1;34m\u001b[0m\n\u001b[1;32m----> 1\u001b[1;33m \u001b[0mwmt_stock_price_queue\u001b[0m\u001b[1;33m.\u001b[0m\u001b[0mpop\u001b[0m\u001b[1;33m(\u001b[0m\u001b[1;33m)\u001b[0m\u001b[1;33m\u001b[0m\u001b[1;33m\u001b[0m\u001b[0m\n\u001b[0m",
            "\u001b[1;31mIndexError\u001b[0m: pop from empty list"
          ]
        }
      ],
      "source": [
        "wmt_stock_price_queue.pop()"
      ]
    },
    {
      "cell_type": "markdown",
      "metadata": {
        "id": "fDyLjF4PrNaq"
      },
      "source": [
        "<h3 style='color:blue'>Using collections.deque as a queue</h3>"
      ]
    },
    {
      "cell_type": "code",
      "execution_count": null,
      "metadata": {
        "id": "-BrKIsdDrNaq"
      },
      "outputs": [],
      "source": [
        "from collections import deque\n",
        "q = deque()"
      ]
    },
    {
      "cell_type": "code",
      "execution_count": null,
      "metadata": {
        "id": "UXDQn7MmrNar",
        "outputId": "a748eeb1-f385-4fa4-f788-88ee0f4ea562"
      },
      "outputs": [
        {
          "data": {
            "text/plain": [
              "deque([10, 8, 5])"
            ]
          },
          "execution_count": 16,
          "metadata": {},
          "output_type": "execute_result"
        }
      ],
      "source": [
        "q.appendleft(5)\n",
        "q.appendleft(8)\n",
        "q.appendleft(10)\n",
        "q"
      ]
    },
    {
      "cell_type": "code",
      "execution_count": null,
      "metadata": {
        "id": "7DfcMUVnrNas",
        "outputId": "7d7cb33e-5a6c-4bc8-fe0d-910b2d788eaa"
      },
      "outputs": [
        {
          "data": {
            "text/plain": [
              "5"
            ]
          },
          "execution_count": 17,
          "metadata": {},
          "output_type": "execute_result"
        }
      ],
      "source": [
        "q.pop()"
      ]
    },
    {
      "cell_type": "code",
      "execution_count": null,
      "metadata": {
        "id": "gHTn6bX4rNau",
        "outputId": "2f4dfc1c-043c-476c-ba69-a8be47759ec2"
      },
      "outputs": [
        {
          "data": {
            "text/plain": [
              "deque([10, 8])"
            ]
          },
          "execution_count": 18,
          "metadata": {},
          "output_type": "execute_result"
        }
      ],
      "source": [
        "q"
      ]
    },
    {
      "cell_type": "code",
      "execution_count": null,
      "metadata": {
        "id": "D5IPk4-qrNav",
        "outputId": "f1977e25-6b37-41bb-aef4-d0a1b78489a6"
      },
      "outputs": [
        {
          "data": {
            "text/plain": [
              "8"
            ]
          },
          "execution_count": 19,
          "metadata": {},
          "output_type": "execute_result"
        }
      ],
      "source": [
        "q.pop()"
      ]
    },
    {
      "cell_type": "code",
      "execution_count": null,
      "metadata": {
        "id": "c-h-RJm_rNav",
        "outputId": "c9bef4c7-aef1-445e-eaf0-6617c6134865"
      },
      "outputs": [
        {
          "data": {
            "text/plain": [
              "10"
            ]
          },
          "execution_count": 20,
          "metadata": {},
          "output_type": "execute_result"
        }
      ],
      "source": [
        "q.pop()"
      ]
    },
    {
      "cell_type": "code",
      "execution_count": null,
      "metadata": {
        "scrolled": true,
        "id": "R9sb2FFhrNay",
        "outputId": "a6384857-42a6-4ee1-c488-65ef45a70f3b"
      },
      "outputs": [
        {
          "ename": "IndexError",
          "evalue": "pop from an empty deque",
          "output_type": "error",
          "traceback": [
            "\u001b[1;31m---------------------------------------------------------------------------\u001b[0m",
            "\u001b[1;31mIndexError\u001b[0m                                Traceback (most recent call last)",
            "\u001b[1;32m<ipython-input-21-a75d510a0910>\u001b[0m in \u001b[0;36m<module>\u001b[1;34m\u001b[0m\n\u001b[1;32m----> 1\u001b[1;33m \u001b[0mq\u001b[0m\u001b[1;33m.\u001b[0m\u001b[0mpop\u001b[0m\u001b[1;33m(\u001b[0m\u001b[1;33m)\u001b[0m\u001b[1;33m\u001b[0m\u001b[1;33m\u001b[0m\u001b[0m\n\u001b[0m",
            "\u001b[1;31mIndexError\u001b[0m: pop from an empty deque"
          ]
        }
      ],
      "source": [
        "q.pop()"
      ]
    },
    {
      "cell_type": "markdown",
      "metadata": {
        "id": "ijJ2NQQWrNaz"
      },
      "source": [
        "<h3 style='color:blue'>Implement queue class using collections.deque</h3>"
      ]
    },
    {
      "cell_type": "code",
      "execution_count": null,
      "metadata": {
        "id": "G-0WErbIrNaz"
      },
      "outputs": [],
      "source": [
        "from collections import deque\n",
        "\n",
        "class Queue:\n",
        "\n",
        "    def __init__(self):\n",
        "        self.buffer = deque()\n",
        "\n",
        "    def enqueue(self, val):\n",
        "        self.buffer.appendleft(val)\n",
        "\n",
        "    def dequeue(self):\n",
        "        return self.buffer.pop()\n",
        "\n",
        "    def is_empty(self):\n",
        "        return len(self.buffer)==0\n",
        "\n",
        "    def size(self):\n",
        "        return len(self.buffer)"
      ]
    },
    {
      "cell_type": "code",
      "execution_count": null,
      "metadata": {
        "id": "su2aY5kTrNaz"
      },
      "outputs": [],
      "source": [
        "pq = Queue()\n",
        "\n",
        "pq.enqueue({\n",
        "    'company': 'Wall Mart',\n",
        "    'timestamp': '15 apr, 11.01 AM',\n",
        "    'price': 131.10\n",
        "})\n",
        "pq.enqueue({\n",
        "    'company': 'Wall Mart',\n",
        "    'timestamp': '15 apr, 11.02 AM',\n",
        "    'price': 132\n",
        "})\n",
        "pq.enqueue({\n",
        "    'company': 'Wall Mart',\n",
        "    'timestamp': '15 apr, 11.03 AM',\n",
        "    'price': 135\n",
        "})"
      ]
    },
    {
      "cell_type": "code",
      "execution_count": null,
      "metadata": {
        "id": "VfjB2IKqrNa0",
        "outputId": "38db95e1-3bc1-4961-ace6-1abb07f83abf"
      },
      "outputs": [
        {
          "data": {
            "text/plain": [
              "3"
            ]
          },
          "execution_count": 34,
          "metadata": {},
          "output_type": "execute_result"
        }
      ],
      "source": [
        "pq.size()"
      ]
    },
    {
      "cell_type": "code",
      "execution_count": null,
      "metadata": {
        "id": "lcdlD5z4rNa0",
        "outputId": "06df2605-6943-4ef7-9857-f61be5c048b0"
      },
      "outputs": [
        {
          "data": {
            "text/plain": [
              "{'company': 'Wall Mart', 'timestamp': '15 apr, 11.01 AM', 'price': 131.1}"
            ]
          },
          "execution_count": 32,
          "metadata": {},
          "output_type": "execute_result"
        }
      ],
      "source": [
        "pq.dequeue()"
      ]
    },
    {
      "cell_type": "code",
      "execution_count": null,
      "metadata": {
        "id": "a6O1CXMfrNa0",
        "outputId": "a3619854-7e40-47e8-8ca5-4cf345d69a1b"
      },
      "outputs": [
        {
          "data": {
            "text/plain": [
              "{'company': 'Wall Mart', 'timestamp': '15 apr, 11.01 AM', 'price': 131.1}"
            ]
          },
          "execution_count": 35,
          "metadata": {},
          "output_type": "execute_result"
        }
      ],
      "source": [
        "pq.dequeue()"
      ]
    },
    {
      "cell_type": "markdown",
      "source": [
        "Design a food ordering system where your python program will run two threads,\n",
        "\n",
        "Place Order: This thread will be placing an order and inserting that into a queue. This thread places new order every 0.5 second. (hint: use time.sleep(0.5) function)\n",
        "Serve Order: This thread will server the order. All you need to do is pop the order out of the queue and print it. This thread serves an order every 2 seconds. Also start this thread 1 second after place order thread is started.\n",
        "Use this video to get yourself familiar with multithreading in python\n",
        "\n",
        "Pass following list as an argument to place order thread,\n",
        "\n",
        "orders = ['pizza','samosa','pasta','biryani','burger']\n",
        "\n",
        "This problem is a producer,consumer problem where place_order thread is producing orders whereas server_order thread is consuming the food orders. Use Queue class implemented in a video tutorial."
      ],
      "metadata": {
        "id": "TFROagD3rxYH"
      }
    },
    {
      "cell_type": "code",
      "source": [
        "import threading\n",
        "import time\n",
        "\n",
        "from collections import deque\n",
        "\n",
        "class Queue:\n",
        "    def __init__(self):\n",
        "        self.buffer = deque()\n",
        "\n",
        "    def enqueue(self, val):\n",
        "        self.buffer.appendleft(val)\n",
        "\n",
        "    def dequeue(self):\n",
        "        if len(self.buffer)==0:\n",
        "            print(\"Queue is empty\")\n",
        "            return\n",
        "\n",
        "        return self.buffer.pop()\n",
        "\n",
        "    def is_empty(self):\n",
        "        return len(self.buffer) == 0\n",
        "\n",
        "    def size(self):\n",
        "        return len(self.buffer)\n",
        "\n",
        "food_order_queue = Queue()\n",
        "\n",
        "def place_orders(orders):\n",
        "    for order in orders:\n",
        "        print(\"Placing order for:\",order)\n",
        "        food_order_queue.enqueue(order)\n",
        "        time.sleep(0.5)\n",
        "\n",
        "\n",
        "def serve_orders():\n",
        "    time.sleep(1)\n",
        "    while True:\n",
        "        order = food_order_queue.dequeue()\n",
        "        print(\"Now serving: \",order)\n",
        "        time.sleep(2)\n",
        "\n",
        "if __name__ == '__main__':\n",
        "    orders = ['pizza','samosa','pasta','biryani','burger']\n",
        "    t1 = threading.Thread(target=place_orders, args=(orders,))\n",
        "    t2 = threading.Thread(target=serve_orders)\n",
        "\n",
        "    t1.start()\n",
        "    t2.start()"
      ],
      "metadata": {
        "id": "S3Gr9aS8rh2-"
      },
      "execution_count": null,
      "outputs": []
    },
    {
      "cell_type": "markdown",
      "source": [
        "Write a program to print binary numbers from 1 to 10 using Queue. Use Queue class implemented in main tutorial. Binary sequence should look like,\n",
        "\n",
        "    1\n",
        "    10\n",
        "    11\n",
        "    100\n",
        "    101\n",
        "    110\n",
        "    111\n",
        "    1000\n",
        "    1001\n",
        "    1010\n",
        "\n",
        "Hint: Notice a pattern above. After 1 second and third number is 1+0 and 1+1. 4th and 5th number are second number (i.e. 10) + 0 and second number (i.e. 10) + 1.\n",
        "\n",
        "You also need to add front() function in queue class that can return the front element in the queue."
      ],
      "metadata": {
        "id": "FjZCwEktr5yw"
      }
    },
    {
      "cell_type": "code",
      "source": [
        "from collections import deque\n",
        "\n",
        "class Queue:\n",
        "    def __init__(self):\n",
        "        self.buffer = deque()\n",
        "\n",
        "    def enqueue(self, val):\n",
        "        self.buffer.appendleft(val)\n",
        "\n",
        "    def dequeue(self):\n",
        "        if len(self.buffer)==0:\n",
        "            print(\"Queue is empty\")\n",
        "            return\n",
        "\n",
        "        return self.buffer.pop()\n",
        "\n",
        "    def is_empty(self):\n",
        "        return len(self.buffer) == 0\n",
        "\n",
        "    def size(self):\n",
        "        return len(self.buffer)\n",
        "\n",
        "    def front(self):\n",
        "        return self.buffer[-1]\n",
        "\n",
        "def produce_binary_numbers(n):\n",
        "    numbers_queue = Queue()\n",
        "    numbers_queue.enqueue(\"1\")\n",
        "\n",
        "    for i in range(n):\n",
        "        front = numbers_queue.front()\n",
        "        print(\"   \", front)\n",
        "        numbers_queue.enqueue(front + \"0\")\n",
        "        numbers_queue.enqueue(front + \"1\")\n",
        "\n",
        "        numbers_queue.dequeue()\n",
        "\n",
        "\n",
        "if __name__ == '__main__':\n",
        "    produce_binary_numbers(10)"
      ],
      "metadata": {
        "id": "isjkBDCssHZc"
      },
      "execution_count": null,
      "outputs": []
    }
  ],
  "metadata": {
    "kernelspec": {
      "display_name": "Python 3",
      "language": "python",
      "name": "python3"
    },
    "language_info": {
      "codemirror_mode": {
        "name": "ipython",
        "version": 3
      },
      "file_extension": ".py",
      "mimetype": "text/x-python",
      "name": "python",
      "nbconvert_exporter": "python",
      "pygments_lexer": "ipython3",
      "version": "3.7.3"
    },
    "colab": {
      "provenance": [],
      "include_colab_link": true
    }
  },
  "nbformat": 4,
  "nbformat_minor": 0
}