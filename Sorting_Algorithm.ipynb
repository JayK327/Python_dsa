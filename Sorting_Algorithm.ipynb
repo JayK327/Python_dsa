{
  "nbformat": 4,
  "nbformat_minor": 0,
  "metadata": {
    "colab": {
      "provenance": [],
      "authorship_tag": "ABX9TyPnMiPslfw5GJ6n4rqC8U9r",
      "include_colab_link": true
    },
    "kernelspec": {
      "name": "python3",
      "display_name": "Python 3"
    },
    "language_info": {
      "name": "python"
    }
  },
  "cells": [
    {
      "cell_type": "markdown",
      "metadata": {
        "id": "view-in-github",
        "colab_type": "text"
      },
      "source": [
        "<a href=\"https://colab.research.google.com/github/JayK327/Python_dsa/blob/main/Sorting_Algorithm.ipynb\" target=\"_parent\"><img src=\"https://colab.research.google.com/assets/colab-badge.svg\" alt=\"Open In Colab\"/></a>"
      ]
    },
    {
      "cell_type": "markdown",
      "source": [
        "#***Bubble Sort***"
      ],
      "metadata": {
        "id": "U0AP5F8Iv4Ta"
      }
    },
    {
      "cell_type": "code",
      "execution_count": null,
      "metadata": {
        "colab": {
          "base_uri": "https://localhost:8080/"
        },
        "id": "KFyp47nZv1w7",
        "outputId": "bf2a52a7-3372-4b31-8f55-b148855d2ae4"
      },
      "outputs": [
        {
          "output_type": "stream",
          "name": "stdout",
          "text": [
            "[1, 2, 5, 5, 9, 24, 44, 77]\n"
          ]
        }
      ],
      "source": [
        "def bubble_sort(elements):\n",
        "  size=len(elements)\n",
        "  for i in range(0,size-1):\n",
        "    swapped=False\n",
        "    for j in range(0,size-i-1):\n",
        "      if elements[j+1]<elements[j]:\n",
        "        swap(j+1,j)\n",
        "        swapped=True\n",
        "    if not swapped:    #if already sorted\n",
        "      break\n",
        "\n",
        "\n",
        "def swap(a,b):\n",
        "  temp=elements[a]\n",
        "  elements[a]=elements[b]\n",
        "  elements[b]=temp\n",
        "\n",
        "\n",
        "if __name__=='__main__':\n",
        "  elements=[5,9,2,1,5,77,44,24]\n",
        "  bubble_sort(elements)\n",
        "  print(elements)"
      ]
    },
    {
      "cell_type": "markdown",
      "source": [
        "#***Quick Sort***"
      ],
      "metadata": {
        "id": "m6J3AmoeZHkx"
      }
    },
    {
      "cell_type": "code",
      "source": [
        "def partition(elements,start,end):\n",
        "  pivot=start\n",
        "  while start<end:\n",
        "    while start<len(elements) and elements[start]<=elements[pivot]:\n",
        "      start+=1\n",
        "    while end>=0 and elements[end]>elements[pivot]:\n",
        "      end-=1\n",
        "    if start<end:\n",
        "      swap(start,end)\n",
        "\n",
        "  swap(end,pivot)\n",
        "  return end\n",
        "\n",
        "def swap(a,b):\n",
        "   tmp=elements[a]\n",
        "   elements[a]=elements[b]\n",
        "   elements[b]=tmp\n",
        "\n",
        "\n",
        "def quick_sort(elements,start,end):\n",
        "  if start<end:  # array has only one element\n",
        "    part_pt=partition(elements,start,end)\n",
        "    quick_sort(elements,start,part_pt-1)\n",
        "    quick_sort(elements,part_pt+1,end)\n",
        "\n",
        "if __name__ == '__main__':\n",
        "    elements = [11,9,29,7,2,15,28]\n",
        "\n",
        "\n",
        "    quick_sort(elements,0,len(elements)-1)\n",
        "    print(elements)"
      ],
      "metadata": {
        "colab": {
          "base_uri": "https://localhost:8080/"
        },
        "id": "aIjYPGPBN7B9",
        "outputId": "1fca083a-134d-4d10-f486-5a3409b0bd63"
      },
      "execution_count": null,
      "outputs": [
        {
          "output_type": "stream",
          "name": "stdout",
          "text": [
            "[2, 7, 9, 11, 15, 28, 29]\n"
          ]
        }
      ]
    },
    {
      "cell_type": "code",
      "source": [
        "# This implements quick sort using lomuto partition scheme\n",
        "\n",
        "def swap(a, b, arr):\n",
        "    if a!=b:\n",
        "        tmp = arr[a]\n",
        "        arr[a] = arr[b]\n",
        "        arr[b] = tmp\n",
        "\n",
        "def quick_sort(elements, start, end):\n",
        "    if len(elements)== 1:\n",
        "        return\n",
        "    if start < end:\n",
        "        pi = partition(elements, start, end)\n",
        "        quick_sort(elements, start, pi-1)\n",
        "        quick_sort(elements, pi+1, end)\n",
        "\n",
        "def partition(elements, start, end):\n",
        "    pivot = elements[end]\n",
        "    p_index = start\n",
        "\n",
        "    for i in range(start, end):\n",
        "        if elements[i] <= pivot:\n",
        "            swap(i, p_index, elements)\n",
        "            p_index += 1\n",
        "\n",
        "    swap(p_index, end, elements)\n",
        "\n",
        "    return p_index\n",
        "\n",
        "\n",
        "if __name__ == '__main__':\n",
        "    elements = [11,9,29,7,2,15,28]\n",
        "\n",
        "    quick_sort(elements, 0, len(elements)-1)\n",
        "    print(elements)"
      ],
      "metadata": {
        "colab": {
          "base_uri": "https://localhost:8080/"
        },
        "id": "C7pBxHXA6TCG",
        "outputId": "358ef162-ef96-4a97-a8eb-aa94610f77d9"
      },
      "execution_count": 7,
      "outputs": [
        {
          "output_type": "stream",
          "name": "stdout",
          "text": [
            "[2, 7, 9, 11, 15, 28, 29]\n"
          ]
        }
      ]
    },
    {
      "cell_type": "markdown",
      "source": [
        "#***Insertion Sort***"
      ],
      "metadata": {
        "id": "O2aT7f_ZYVVh"
      }
    },
    {
      "cell_type": "code",
      "source": [
        "def swap(a, b):\n",
        "    if a!=b:\n",
        "        tmp = arr[a]\n",
        "        arr[a] = arr[b]\n",
        "        arr[b] = tmp\n",
        "\n",
        "def insertion_sort(elements):\n",
        "    for i in range(1,len(elements)):\n",
        "      while i>0:\n",
        "        if elements[i-1]>=elements[i]:\n",
        "          swap(i,i-1)\n",
        "        i-=1\n",
        "\n",
        "\n",
        "if __name__ == '__main__':\n",
        "    arr= [11,9,29,7,2,15,28]\n",
        "    insertion_sort(arr)\n",
        "    print(arr)"
      ],
      "metadata": {
        "colab": {
          "base_uri": "https://localhost:8080/"
        },
        "id": "MglBE9zi8Czd",
        "outputId": "c8145153-e305-4962-c667-e137e14e0b60"
      },
      "execution_count": 8,
      "outputs": [
        {
          "output_type": "stream",
          "name": "stdout",
          "text": [
            "[2, 7, 9, 11, 15, 28, 29]\n"
          ]
        }
      ]
    },
    {
      "cell_type": "markdown",
      "source": [
        "#***Merge Sort***"
      ],
      "metadata": {
        "id": "BHHv6wxrYa-3"
      }
    },
    {
      "cell_type": "code",
      "source": [
        "def merge_two_sorted_lists(a,b,arr):\n",
        "  i,j,k=0,0,0\n",
        "  while i<len(a) and j<len(b):\n",
        "    if a[i]<b[j]:\n",
        "      arr[k]=a[i]\n",
        "      i+=1\n",
        "    else:\n",
        "      arr[k]=b[j]\n",
        "      j+=1\n",
        "    k+=1\n",
        "  if i==len(a) and j<len(b):\n",
        "    while j!=len(b):\n",
        "      arr[k]=b[j]\n",
        "      j+=1\n",
        "      k+=1\n",
        "  if j==len(b) and i<len(a):\n",
        "    while i!=len(a):\n",
        "      arr[k]=a[i]\n",
        "      i+=1\n",
        "      k+=1\n",
        "\n",
        "\n",
        "def merge_sort(arr):\n",
        "  if len(arr)<=1:\n",
        "    return\n",
        "  mid=len(arr)//2\n",
        "  left=arr[:mid]\n",
        "  right=arr[mid:]\n",
        "\n",
        "  merge_sort(left)\n",
        "  merge_sort(right)\n",
        "  merge_two_sorted_lists(left,right,arr)\n",
        "\n",
        "if __name__=='__main__':\n",
        "  arr=[10,3,15,7,8,23,98,29]\n",
        "  merge_sort(arr)\n",
        "  print(arr)"
      ],
      "metadata": {
        "colab": {
          "base_uri": "https://localhost:8080/"
        },
        "id": "8DMO3V-8Yh-H",
        "outputId": "503f7730-2658-4af2-ab9b-ebc9b6fdf390"
      },
      "execution_count": 3,
      "outputs": [
        {
          "output_type": "stream",
          "name": "stdout",
          "text": [
            "[3, 7, 8, 10, 15, 23, 29, 98]\n"
          ]
        }
      ]
    },
    {
      "cell_type": "code",
      "source": [
        "#using pop first element and extend function and also in ascending/descending order\n",
        "def merge(left_list, right_list, key, descending=False):\n",
        "    merged = []\n",
        "    if descending:\n",
        "        while len(left_list) > 0 and len(right_list) > 0:\n",
        "            if left_list[0][key] >= right_list[0][key]:\n",
        "                merged.append(left_list.pop(0))\n",
        "            else:\n",
        "                merged.append(right_list.pop(0))\n",
        "\n",
        "    else:\n",
        "        while len(left_list) > 0 and len(right_list) > 0:\n",
        "            if left_list[0][key] <= right_list[0][key]:\n",
        "                merged.append(left_list.pop(0))\n",
        "            else:\n",
        "                merged.append(right_list.pop(0))\n",
        "\n",
        "    merged.extend(left_list)\n",
        "    merged.extend(right_list)\n",
        "    return merged"
      ],
      "metadata": {
        "id": "AavG5iXtGC34"
      },
      "execution_count": null,
      "outputs": []
    },
    {
      "cell_type": "markdown",
      "source": [
        "#***Shell sort***"
      ],
      "metadata": {
        "id": "Yd9UcLZoM1xM"
      }
    },
    {
      "cell_type": "code",
      "source": [
        "def shell_sort(arr):\n",
        "  size=len(arr)\n",
        "  gap=size//2\n",
        "  while gap>0:\n",
        "    for i in range(gap,size):\n",
        "      anchor=arr[i]\n",
        "      j=i\n",
        "      while j>=gap and arr[j-gap]>anchor:\n",
        "        arr[j]=arr[j-gap]\n",
        "        j-=gap\n",
        "      arr[j]=anchor\n",
        "    gap=gap//2\n",
        "\n",
        "\n",
        "if __name__=='__main__':\n",
        "  arr=[21,38,29,7,4,25,11,32,9]\n",
        "  shell_sort(arr)\n",
        "  print(arr)"
      ],
      "metadata": {
        "colab": {
          "base_uri": "https://localhost:8080/"
        },
        "id": "rVhueJiXM6-P",
        "outputId": "55ef3d5b-7ea4-409f-c5f6-a9fc1a6e1340"
      },
      "execution_count": 6,
      "outputs": [
        {
          "output_type": "stream",
          "name": "stdout",
          "text": [
            "[4, 7, 9, 11, 21, 25, 29, 32, 38]\n"
          ]
        }
      ]
    },
    {
      "cell_type": "markdown",
      "source": [
        "Sort the elements of a given list using shell sort, but with a slight modification. Remove all the repeating occurances of elements while sorting.\n",
        "\n",
        "Traditionally, when comparing two elements in shell sort, we swap if first element is bigger than second, and do nothing otherwise.\n",
        "\n",
        "In this modified shell sort with duplicate removal, we will swap if first element is bigger than second, and do nothing if element is smaller, but if values are same, we will delete one of the two elements we are comparing before starting the next pass for the reduced gap.\n",
        "\n",
        "For example, given the unsorted list [2, 1, 5, 7, 2, 0, 5, 1, 2, 9, 5, 8, 3], after sorting using shell sort without duplicates, the sorted list would be:\n",
        "\n",
        "[0, 1, 2, 3, 5, 7, 8, 9]\n"
      ],
      "metadata": {
        "id": "oO9zY5cJaCGg"
      }
    },
    {
      "cell_type": "code",
      "source": [
        "def shell_sort(arr):\n",
        "  #size=len(arr)  :gives error list index out of range due to deletion of element\n",
        "  #gap=size//2\n",
        "  size=len(arr)\n",
        "  div=2\n",
        "  gap=size//div\n",
        "  while gap>0:\n",
        "    index_to_delete=[]\n",
        "    for i in range(gap,size):\n",
        "      anchor=arr[i]\n",
        "      j=i\n",
        "      while j>=gap and arr[j-gap]>=anchor:\n",
        "        if arr[j-gap]==anchor:\n",
        "          index_to_delete.append(j)\n",
        "        arr[j]=arr[j-gap]\n",
        "        j-=gap\n",
        "      arr[j]=anchor\n",
        "    index_to_delete=list(set(index_to_delete))\n",
        "    index_to_delete.sort()\n",
        "    if index_to_delete:\n",
        "      for i in index_to_delete[-1::-1]:\n",
        "        del arr[i]\n",
        "    #gap=gap//2:Instead we need to calculate new size and then cal. new gap\n",
        "    div*=2\n",
        "    size=len(arr)\n",
        "    gap=size//div\n",
        "\n",
        "   #OR\n",
        "   # Create a new list to avoid modifying the list while iterating\n",
        " '''new_arr = [arr[i] for i in range(size) if i not in index_to_delete]\n",
        "    arr[:] = new_arr\n",
        "    size = len(arr)\n",
        "    gap=gap//2'''\n",
        "\n",
        "if __name__=='__main__':\n",
        "  arr=[2, 1, 5, 7, 2, 0, 5, 1, 2, 9, 5, 8, 3]\n",
        "  shell_sort(arr)\n",
        "  print(arr)"
      ],
      "metadata": {
        "colab": {
          "base_uri": "https://localhost:8080/"
        },
        "id": "Cet2K7qWaKVl",
        "outputId": "97161d0f-4673-4453-f19a-f998e07748b5"
      },
      "execution_count": 1,
      "outputs": [
        {
          "output_type": "stream",
          "name": "stdout",
          "text": [
            "[0, 1, 2, 3, 5, 7, 8, 9]\n"
          ]
        }
      ]
    },
    {
      "cell_type": "markdown",
      "source": [
        "#***Selection Sort***"
      ],
      "metadata": {
        "id": "TGdEsgHLhQhh"
      }
    },
    {
      "cell_type": "code",
      "source": [
        "def selection_sort(arr):\n",
        "  for i in range(0,len(arr)-1):\n",
        "    num=arr[i]\n",
        "    for j in range(i+1,len(arr)):\n",
        "      if arr[j]<arr[i]:\n",
        "        arr[i],arr[j]=arr[j],arr[i]\n",
        "\n",
        "\n",
        "if __name__=='__main__':\n",
        "  arr=[44,8,18,56,48,212,3,28,74,4,6,]\n",
        "  selection_sort(arr)\n",
        "  print(arr)"
      ],
      "metadata": {
        "colab": {
          "base_uri": "https://localhost:8080/"
        },
        "id": "ol2sjaB3hV1L",
        "outputId": "308f7ff7-73b5-4405-f4ab-a2b5fc9d3ba8"
      },
      "execution_count": 5,
      "outputs": [
        {
          "output_type": "stream",
          "name": "stdout",
          "text": [
            "[3, 4, 6, 8, 18, 28, 44, 48, 56, 74, 212]\n"
          ]
        }
      ]
    },
    {
      "cell_type": "markdown",
      "source": [
        "Implement a Multi-Level Sort of a given list of dictionaries based on a given sorting order. If user wants to sort dictionary based on First Key 'A', Then Key 'B', they shall pass list of keys in the order of preference as a list ['A','B']. Your code should be able to sort list of dictionaries for any number of keys in sorting order list.\n",
        "\n"
      ],
      "metadata": {
        "id": "tQOf4fVYkkze"
      }
    },
    {
      "cell_type": "code",
      "source": [
        "def multilevel_selection_sort(elements, sort_by_list):\n",
        "    for sort_by in sort_by_list[-1::-1]:#First sort on last ,then second last,then third last and so on.\n",
        "        for x in range(len(elements)):\n",
        "            min_index = x\n",
        "            for y in range(x, len(elements)):\n",
        "                if elements[y][sort_by] < elements[min_index][sort_by]:\n",
        "                    min_index = y\n",
        "            if x != min_index:\n",
        "                elements[x], elements[min_index] = elements[min_index], elements[x]\n",
        "\n",
        "\n",
        "if __name__ == '__main__':\n",
        "\n",
        "    print(f'Given unsorted array:', *elements, sep='\\n')\n",
        "    multilevel_selection_sort(\n",
        "        elements, ['First Name', 'Last Name'])\n",
        "    print(f'Array after Multi-Level Sorting:', *elements, sep='\\n')"
      ],
      "metadata": {
        "id": "eyOaYwvSkRBQ"
      },
      "execution_count": null,
      "outputs": []
    }
  ]
}