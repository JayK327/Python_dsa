{
  "nbformat": 4,
  "nbformat_minor": 0,
  "metadata": {
    "colab": {
      "provenance": [],
      "authorship_tag": "ABX9TyNkpmoZYc9/P/8SvAvXmHVp",
      "include_colab_link": true
    },
    "kernelspec": {
      "name": "python3",
      "display_name": "Python 3"
    },
    "language_info": {
      "name": "python"
    }
  },
  "cells": [
    {
      "cell_type": "markdown",
      "metadata": {
        "id": "view-in-github",
        "colab_type": "text"
      },
      "source": [
        "<a href=\"https://colab.research.google.com/github/JayK327/Python_dsa/blob/main/HashTable.ipynb\" target=\"_parent\"><img src=\"https://colab.research.google.com/assets/colab-badge.svg\" alt=\"Open In Colab\"/></a>"
      ]
    },
    {
      "cell_type": "code",
      "execution_count": 7,
      "metadata": {
        "id": "qtygsoaeinwx"
      },
      "outputs": [],
      "source": [
        "class HashTable:\n",
        "  def __init__(self):\n",
        "    self.MAX=100\n",
        "    self.arr=[None for i in range(self.MAX)]\n",
        "\n",
        "  def get_hash(self,key):\n",
        "    h=0\n",
        "    for char in key:\n",
        "      h += ord(char)\n",
        "    return h%self.MAX\n",
        "\n",
        "  def add(self,key,val):\n",
        "    h=self.get_hash(key)\n",
        "    self.arr[h]=val\n",
        "\n",
        "  def get(self,key):\n",
        "    h=self.get_hash(key)\n",
        "    return self.arr[h]\n",
        ""
      ]
    },
    {
      "cell_type": "code",
      "source": [
        "t=HashTable()\n",
        "t.get_hash('march 6')\n",
        "t.add('march 6',130)"
      ],
      "metadata": {
        "id": "J_UpdCrzjMIv"
      },
      "execution_count": 8,
      "outputs": []
    },
    {
      "cell_type": "code",
      "source": [
        "t.get('march 6')"
      ],
      "metadata": {
        "colab": {
          "base_uri": "https://localhost:8080/"
        },
        "id": "QeDWRhh4kVKd",
        "outputId": "70351023-2b82-4162-fd13-a7628b64c93a"
      },
      "execution_count": 10,
      "outputs": [
        {
          "output_type": "execute_result",
          "data": {
            "text/plain": [
              "130"
            ]
          },
          "metadata": {},
          "execution_count": 10
        }
      ]
    },
    {
      "cell_type": "markdown",
      "source": [
        "HashTable call as dictionary"
      ],
      "metadata": {
        "id": "NBDCLrvpk_Eb"
      }
    },
    {
      "cell_type": "code",
      "source": [
        "class HashTable1:\n",
        "  def __init__(self):\n",
        "    self.MAX=100\n",
        "    self.arr=[None for i in range(self.MAX)]\n",
        "\n",
        "  def get_hash(self,key):\n",
        "    h=0\n",
        "    for char in key:\n",
        "      h += ord(char)\n",
        "    return h%self.MAX\n",
        "\n",
        "  def __setitem__(self,key,val):\n",
        "    h=self.get_hash(key)\n",
        "    self.arr[h]=val\n",
        "\n",
        "  def __getitem__(self,key):\n",
        "    h=self.get_hash(key)\n",
        "    return self.arr[h]\n",
        "\n",
        "  def __delitem__(self,key):\n",
        "    h=self.get_hash(key)\n",
        "    self.arr[h]=None"
      ],
      "metadata": {
        "id": "lJ4av9nzkvSG"
      },
      "execution_count": 18,
      "outputs": []
    },
    {
      "cell_type": "code",
      "source": [
        "t1=HashTable1()\n",
        "t1['march 6']=130\n",
        "t1['march 3']=37\n",
        "t1['dec 18']=24"
      ],
      "metadata": {
        "id": "ocQ8Nznak98O"
      },
      "execution_count": 19,
      "outputs": []
    },
    {
      "cell_type": "code",
      "source": [
        "t1['march 6']"
      ],
      "metadata": {
        "colab": {
          "base_uri": "https://localhost:8080/"
        },
        "id": "8plwlc9qlLwY",
        "outputId": "693f7cbe-bea6-4ee7-cdc1-7dfe6c692ff2"
      },
      "execution_count": 20,
      "outputs": [
        {
          "output_type": "execute_result",
          "data": {
            "text/plain": [
              "130"
            ]
          },
          "metadata": {},
          "execution_count": 20
        }
      ]
    },
    {
      "cell_type": "code",
      "source": [
        "del t1['march 6']"
      ],
      "metadata": {
        "id": "QmSdX8e4mBxn"
      },
      "execution_count": 21,
      "outputs": []
    },
    {
      "cell_type": "code",
      "source": [
        "t1['march 6']"
      ],
      "metadata": {
        "id": "NQPR-JW_mcDr"
      },
      "execution_count": 22,
      "outputs": []
    },
    {
      "cell_type": "code",
      "source": [
        "def get_hash(key):\n",
        "  h=0\n",
        "  for char in key:\n",
        "    h += ord(char)\n",
        "  return h%10\n",
        "\n",
        "get_hash('march 17')"
      ],
      "metadata": {
        "colab": {
          "base_uri": "https://localhost:8080/"
        },
        "id": "5KiWAEx_nwNc",
        "outputId": "6d50cd92-2251-4d5a-8f20-4fa574bda4b8"
      },
      "execution_count": 29,
      "outputs": [
        {
          "output_type": "execute_result",
          "data": {
            "text/plain": [
              "9"
            ]
          },
          "metadata": {},
          "execution_count": 29
        }
      ]
    },
    {
      "cell_type": "markdown",
      "source": [
        "#Chaining"
      ],
      "metadata": {
        "id": "msieIQFQtkSS"
      }
    },
    {
      "cell_type": "code",
      "source": [
        "class HashTable2:\n",
        "  def __init__(self):\n",
        "    self.MAX=10\n",
        "    self.arr=[[] for i in range(self.MAX)]\n",
        "\n",
        "  def get_hash(self,key):\n",
        "    h=0\n",
        "    for char in key:\n",
        "      h += ord(char)\n",
        "    return h%self.MAX\n",
        "\n",
        "  def __setitem__(self,key,val):\n",
        "    h=self.get_hash(key)\n",
        "    found=False\n",
        "    for idx,element in enumerate(self.arr[h]):\n",
        "      if len(element)==2 and element[0]==key:\n",
        "        self.arr[h][idx]=(key,val)\n",
        "        found=True\n",
        "        break\n",
        "    if not found:\n",
        "      self.arr[h].append((key,val))\n",
        "\n",
        "  def __getitem__(self,key):\n",
        "    h=self.get_hash(key)\n",
        "    for element in self.arr[h]:\n",
        "      if element[0]==key:\n",
        "        return element[1]\n",
        "\n",
        "  def __delitem__(self,key):\n",
        "    h=self.get_hash(key)\n",
        "    for index,element in enumerate(self.arr[h]):\n",
        "      if element[0]==key:\n",
        "        del self.arr[h][index]\n",
        ""
      ],
      "metadata": {
        "id": "Y5ging8mtUJi"
      },
      "execution_count": 45,
      "outputs": []
    },
    {
      "cell_type": "code",
      "source": [
        "t2=HashTable2()"
      ],
      "metadata": {
        "id": "VaA6jXJTzn7Z"
      },
      "execution_count": 46,
      "outputs": []
    },
    {
      "cell_type": "code",
      "source": [
        "t2['march 6']=130\n",
        "t2['march 6']=37\n",
        "t2['march 8']=24\n",
        "t2['march 9']=4\n",
        "t2['march 17']=459\n"
      ],
      "metadata": {
        "id": "CwznYQudzy85"
      },
      "execution_count": 47,
      "outputs": []
    },
    {
      "cell_type": "code",
      "source": [
        "t2.arr"
      ],
      "metadata": {
        "colab": {
          "base_uri": "https://localhost:8080/"
        },
        "id": "gp58xLal0Nid",
        "outputId": "46cfeaac-8694-48b1-9609-9c57c75f340c"
      },
      "execution_count": 48,
      "outputs": [
        {
          "output_type": "execute_result",
          "data": {
            "text/plain": [
              "[[],\n",
              " [('march 8', 24)],\n",
              " [('march 9', 4)],\n",
              " [],\n",
              " [],\n",
              " [],\n",
              " [],\n",
              " [],\n",
              " [],\n",
              " [('march 6', 37), ('march 17', 459)]]"
            ]
          },
          "metadata": {},
          "execution_count": 48
        }
      ]
    },
    {
      "cell_type": "code",
      "source": [
        "t2['march 6']"
      ],
      "metadata": {
        "colab": {
          "base_uri": "https://localhost:8080/"
        },
        "id": "MEpQmHnS1yHu",
        "outputId": "ee943008-2981-4040-8932-3037cdeba863"
      },
      "execution_count": 49,
      "outputs": [
        {
          "output_type": "execute_result",
          "data": {
            "text/plain": [
              "37"
            ]
          },
          "metadata": {},
          "execution_count": 49
        }
      ]
    },
    {
      "cell_type": "code",
      "source": [
        "del t2['march 17']"
      ],
      "metadata": {
        "id": "lkpEsUwq30T3"
      },
      "execution_count": 50,
      "outputs": []
    },
    {
      "cell_type": "code",
      "source": [
        "t2.arr"
      ],
      "metadata": {
        "colab": {
          "base_uri": "https://localhost:8080/"
        },
        "id": "DLmQWLpO34xS",
        "outputId": "4837af0e-2afb-4607-d62f-d249cbdf56f9"
      },
      "execution_count": 51,
      "outputs": [
        {
          "output_type": "execute_result",
          "data": {
            "text/plain": [
              "[[],\n",
              " [('march 8', 24)],\n",
              " [('march 9', 4)],\n",
              " [],\n",
              " [],\n",
              " [],\n",
              " [],\n",
              " [],\n",
              " [],\n",
              " [('march 6', 37)]]"
            ]
          },
          "metadata": {},
          "execution_count": 51
        }
      ]
    }
  ]
}